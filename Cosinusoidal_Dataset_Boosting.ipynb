{
  "nbformat": 4,
  "nbformat_minor": 0,
  "metadata": {
    "colab": {
      "provenance": [],
      "authorship_tag": "ABX9TyMJQovgl3OwHCaIMfs2iYZ4",
      "include_colab_link": true
    },
    "kernelspec": {
      "name": "python3",
      "display_name": "Python 3"
    },
    "language_info": {
      "name": "python"
    }
  },
  "cells": [
    {
      "cell_type": "markdown",
      "metadata": {
        "id": "view-in-github",
        "colab_type": "text"
      },
      "source": [
        "<a href=\"https://colab.research.google.com/github/Rushp0/Electromyography-and-Gradient-Boosting/blob/main/Electromyography_and_Gradient_Boosting_Cosinusoidal_Dataset_Boosting.ipynb\" target=\"_parent\"><img src=\"https://colab.research.google.com/assets/colab-badge.svg\" alt=\"Open In Colab\"/></a>"
      ]
    },
    {
      "cell_type": "code",
      "execution_count": null,
      "metadata": {
        "id": "2fb_LuvNX40X"
      },
      "outputs": [],
      "source": [
        "# imports\n",
        "import pandas as pd\n",
        "import jax\n",
        "import jax.numpy as jnp\n",
        "\n",
        "from sklearn.tree import DecisionTreeClassifier\n",
        "from sklearn.ensemble import GradientBoostingClassifier\n",
        "\n",
        "import matplotlib.pyplot as plt"
      ]
    },
    {
      "cell_type": "markdown",
      "source": [
        "# Generate Data\n",
        "Creates noisy clipped cosine function "
      ],
      "metadata": {
        "id": "asdV3EH8g5e7"
      }
    },
    {
      "cell_type": "code",
      "source": [
        "X = jnp.linspace(-5, 5, 300)\n",
        "mu = 0.2\n",
        "\n",
        "y = jnp.sign(jnp.cos(X)) + mu * jax.random.normal(jax.random.PRNGKey(0), (X.size,))\n",
        "data = pd.DataFrame(zip(X,y), columns=['X', 'y'])\n",
        "\n",
        "plt.scatter(X,y)\n",
        "X = jnp.reshape(X, (-1,1))"
      ],
      "metadata": {
        "id": "i5f_JSJYg4-Y",
        "colab": {
          "base_uri": "https://localhost:8080/",
          "height": 282
        },
        "outputId": "a88a6972-f61e-41ce-e00a-aad493351ac7"
      },
      "execution_count": null,
      "outputs": [
        {
          "output_type": "stream",
          "name": "stderr",
          "text": [
            "WARNING:absl:No GPU/TPU found, falling back to CPU. (Set TF_CPP_MIN_LOG_LEVEL=0 and rerun for more info.)\n"
          ]
        },
        {
          "output_type": "display_data",
          "data": {
            "text/plain": [
              "<Figure size 432x288 with 1 Axes>"
            ],
            "image/png": "[encoded data removed]"
          },
          "metadata": {
            "needs_background": "light"
          }
        }
      ]
    },
    {
      "cell_type": "code",
      "source": [
        "from sklearn.ensemble import GradientBoostingClassifier\n",
        "from sklearn.datasets import make_hastie_10_2\n",
        "X, y = make_hastie_10_2(random_state=0)\n",
        "X_train, X_test = X[:2000], X[2000:]\n",
        "y_train, y_test = y[:2000], y[2000:]\n",
        "\n",
        "clf = GradientBoostingClassifier(n_estimators=100, learning_rate=1.0, max_depth=1, random_state=0).fit(X_train, y_train)\n",
        "print(clf.score(X_test, y_test))\n",
        "\n",
        "\n"
      ],
      "metadata": {
        "colab": {
          "base_uri": "https://localhost:8080/"
        },
        "id": "_fRow-LitTRa",
        "outputId": "66855c56-6980-4c91-be0d-1263674e68e7"
      },
      "execution_count": null,
      "outputs": [
        {
          "output_type": "stream",
          "name": "stdout",
          "text": [
            "0.913\n"
          ]
        }
      ]
    },
    {
      "cell_type": "markdown",
      "source": [
        "# Initalize Crappy Model"
      ],
      "metadata": {
        "id": "tO9uqCZ66CwT"
      }
    },
    {
      "cell_type": "code",
      "source": [
        "tree_1 = DecisionTreeRegressor(max_depth=2)\n",
        "tree_1.fit(X, y)"
      ],
      "metadata": {
        "id": "oXLyYNPc6FOQ",
        "colab": {
          "base_uri": "https://localhost:8080/"
        },
        "outputId": "e435eefd-75c2-4e87-d485-e922a10472ad"
      },
      "execution_count": null,
      "outputs": [
        {
          "output_type": "execute_result",
          "data": {
            "text/plain": [
              "DecisionTreeRegressor(max_depth=2)"
            ]
          },
          "metadata": {},
          "execution_count": 3
        }
      ]
    },
    {
      "cell_type": "code",
      "source": [
        "# store tree 1 predictions into dataframe\n",
        "data[\"tree_1_pred\"] = tree_1.predict(X)\n",
        "\n",
        "# plot tree 1 predictions vs ground truth\n",
        "tree1, = plt.plot(data[\"X\"], data[\"tree_1_pred\"], label=\"Tree 1 Prediction\", color='g')\n",
        "plt.scatter(X,y)\n"
      ],
      "metadata": {
        "id": "0LJze5P26q9R",
        "colab": {
          "base_uri": "https://localhost:8080/",
          "height": 282
        },
        "outputId": "cfca9064-4fdb-4ac3-84b8-6eb3686b3ee9"
      },
      "execution_count": null,
      "outputs": [
        {
          "output_type": "execute_result",
          "data": {
            "text/plain": [
              "<matplotlib.collections.PathCollection at 0x7fa0ee5cc390>"
            ]
          },
          "metadata": {},
          "execution_count": 4
        },
        {
          "output_type": "display_data",
          "data": {
            "text/plain": [
              "<Figure size 432x288 with 1 Axes>"
            ],
            "image/png": "[encoded data removed]"
          },
          "metadata": {
            "needs_background": "light"
          }
        }
      ]
    },
    {
      "cell_type": "markdown",
      "source": [
        "# Calculate residuals"
      ],
      "metadata": {
        "id": "jXr1xwq58ZXU"
      }
    },
    {
      "cell_type": "code",
      "source": [
        "data[\"tree_1_residuals\"] = data[\"y\"] - data[\"tree_1_pred\"]\n",
        "data"
      ],
      "metadata": {
        "id": "JbPkRtGj8bY2",
        "colab": {
          "base_uri": "https://localhost:8080/",
          "height": 419
        },
        "outputId": "e8167776-aa99-4e02-ed80-e3de18aedda5"
      },
      "execution_count": null,
      "outputs": [
        {
          "output_type": "execute_result",
          "data": {
            "text/plain": [
              "             X           y  tree_1_pred tree_1_residuals\n",
              "0         -5.0  0.93459404     1.116698      -0.18210435\n",
              "1    -4.966555    0.521033     1.116698       -0.5956654\n",
              "2     -4.93311   1.1054668     1.116698     -0.011231542\n",
              "3    -4.899666   1.5460362     1.116698       0.42933786\n",
              "4    -4.866221   1.2982934     1.116698       0.18159497\n",
              "..         ...         ...          ...              ...\n",
              "295  4.8662205   1.1539304    -0.815805        1.9697351\n",
              "296  4.8996654   0.7410033    -0.815805         1.556808\n",
              "297    4.93311    0.820122    -0.815805        1.6359267\n",
              "298   4.966555   1.2340584    -0.815805         2.049863\n",
              "299        5.0   1.0395705    -0.815805        1.8553753\n",
              "\n",
              "[300 rows x 4 columns]"
            ],
            "text/html": [
              "\n",
              "  <div id=\"df-befaef56-7020-4916-b4c6-33d21cc251cd\">\n",
              "    <div class=\"colab-df-container\">\n",
              "      <div>\n",
              "<style scoped>\n",
              "    .dataframe tbody tr th:only-of-type {\n",
              "        vertical-align: middle;\n",
              "    }\n",
              "\n",
              "    .dataframe tbody tr th {\n",
              "        vertical-align: top;\n",
              "    }\n",
              "\n",
              "    .dataframe thead th {\n",
              "        text-align: right;\n",
              "    }\n",
              "</style>\n",
              "<table border=\"1\" class=\"dataframe\">\n",
              "  <thead>\n",
              "    <tr style=\"text-align: right;\">\n",
              "      <th></th>\n",
              "      <th>X</th>\n",
              "      <th>y</th>\n",
              "      <th>tree_1_pred</th>\n",
              "      <th>tree_1_residuals</th>\n",
              "    </tr>\n",
              "  </thead>\n",
              "  <tbody>\n",
              "    <tr>\n",
              "      <th>0</th>\n",
              "      <td>-5.0</td>\n",
              "      <td>0.93459404</td>\n",
              "      <td>1.116698</td>\n",
              "      <td>-0.18210435</td>\n",
              "    </tr>\n",
              "    <tr>\n",
              "      <th>1</th>\n",
              "      <td>-4.966555</td>\n",
              "      <td>0.521033</td>\n",
              "      <td>1.116698</td>\n",
              "      <td>-0.5956654</td>\n",
              "    </tr>\n",
              "    <tr>\n",
              "      <th>2</th>\n",
              "      <td>-4.93311</td>\n",
              "      <td>1.1054668</td>\n",
              "      <td>1.116698</td>\n",
              "      <td>-0.011231542</td>\n",
              "    </tr>\n",
              "    <tr>\n",
              "      <th>3</th>\n",
              "      <td>-4.899666</td>\n",
              "      <td>1.5460362</td>\n",
              "      <td>1.116698</td>\n",
              "      <td>0.42933786</td>\n",
              "    </tr>\n",
              "    <tr>\n",
              "      <th>4</th>\n",
              "      <td>-4.866221</td>\n",
              "      <td>1.2982934</td>\n",
              "      <td>1.116698</td>\n",
              "      <td>0.18159497</td>\n",
              "    </tr>\n",
              "    <tr>\n",
              "      <th>...</th>\n",
              "      <td>...</td>\n",
              "      <td>...</td>\n",
              "      <td>...</td>\n",
              "      <td>...</td>\n",
              "    </tr>\n",
              "    <tr>\n",
              "      <th>295</th>\n",
              "      <td>4.8662205</td>\n",
              "      <td>1.1539304</td>\n",
              "      <td>-0.815805</td>\n",
              "      <td>1.9697351</td>\n",
              "    </tr>\n",
              "    <tr>\n",
              "      <th>296</th>\n",
              "      <td>4.8996654</td>\n",
              "      <td>0.7410033</td>\n",
              "      <td>-0.815805</td>\n",
              "      <td>1.556808</td>\n",
              "    </tr>\n",
              "    <tr>\n",
              "      <th>297</th>\n",
              "      <td>4.93311</td>\n",
              "      <td>0.820122</td>\n",
              "      <td>-0.815805</td>\n",
              "      <td>1.6359267</td>\n",
              "    </tr>\n",
              "    <tr>\n",
              "      <th>298</th>\n",
              "      <td>4.966555</td>\n",
              "      <td>1.2340584</td>\n",
              "      <td>-0.815805</td>\n",
              "      <td>2.049863</td>\n",
              "    </tr>\n",
              "    <tr>\n",
              "      <th>299</th>\n",
              "      <td>5.0</td>\n",
              "      <td>1.0395705</td>\n",
              "      <td>-0.815805</td>\n",
              "      <td>1.8553753</td>\n",
              "    </tr>\n",
              "  </tbody>\n",
              "</table>\n",
              "<p>300 rows × 4 columns</p>\n",
              "</div>\n",
              "      <button class=\"colab-df-convert\" onclick=\"convertToInteractive('df-befaef56-7020-4916-b4c6-33d21cc251cd')\"\n",
              "              title=\"Convert this dataframe to an interactive table.\"\n",
              "              style=\"display:none;\">\n",
              "        \n",
              "  <svg xmlns=\"http://www.w3.org/2000/svg\" height=\"24px\"viewBox=\"0 0 24 24\"\n",
              "       width=\"24px\">\n",
              "    <path d=\"M0 0h24v24H0V0z\" fill=\"none\"/>\n",
              "    <path d=\"M18.56 5.44l.94 2.06.94-2.06 2.06-.94-2.06-.94-.94-2.06-.94 2.06-2.06.94zm-11 1L8.5 8.5l.94-2.06 2.06-.94-2.06-.94L8.5 2.5l-.94 2.06-2.06.94zm10 10l.94 2.06.94-2.06 2.06-.94-2.06-.94-.94-2.06-.94 2.06-2.06.94z\"/><path d=\"M17.41 7.96l-1.37-1.37c-.4-.4-.92-.59-1.43-.59-.52 0-1.04.2-1.43.59L10.3 9.45l-7.72 7.72c-.78.78-.78 2.05 0 2.83L4 21.41c.39.39.9.59 1.41.59.51 0 1.02-.2 1.41-.59l7.78-7.78 2.81-2.81c.8-.78.8-2.07 0-2.86zM5.41 20L4 18.59l7.72-7.72 1.47 1.35L5.41 20z\"/>\n",
              "  </svg>\n",
              "      </button>\n",
              "      \n",
              "  <style>\n",
              "    .colab-df-container {\n",
              "      display:flex;\n",
              "      flex-wrap:wrap;\n",
              "      gap: 12px;\n",
              "    }\n",
              "\n",
              "    .colab-df-convert {\n",
              "      background-color: #E8F0FE;\n",
              "      border: none;\n",
              "      border-radius: 50%;\n",
              "      cursor: pointer;\n",
              "      display: none;\n",
              "      fill: #1967D2;\n",
              "      height: 32px;\n",
              "      padding: 0 0 0 0;\n",
              "      width: 32px;\n",
              "    }\n",
              "\n",
              "    .colab-df-convert:hover {\n",
              "      background-color: #E2EBFA;\n",
              "      box-shadow: 0px 1px 2px rgba(60, 64, 67, 0.3), 0px 1px 3px 1px rgba(60, 64, 67, 0.15);\n",
              "      fill: #174EA6;\n",
              "    }\n",
              "\n",
              "    [theme=dark] .colab-df-convert {\n",
              "      background-color: #3B4455;\n",
              "      fill: #D2E3FC;\n",
              "    }\n",
              "\n",
              "    [theme=dark] .colab-df-convert:hover {\n",
              "      background-color: #434B5C;\n",
              "      box-shadow: 0px 1px 3px 1px rgba(0, 0, 0, 0.15);\n",
              "      filter: drop-shadow(0px 1px 2px rgba(0, 0, 0, 0.3));\n",
              "      fill: #FFFFFF;\n",
              "    }\n",
              "  </style>\n",
              "\n",
              "      <script>\n",
              "        const buttonEl =\n",
              "          document.querySelector('#df-befaef56-7020-4916-b4c6-33d21cc251cd button.colab-df-convert');\n",
              "        buttonEl.style.display =\n",
              "          google.colab.kernel.accessAllowed ? 'block' : 'none';\n",
              "\n",
              "        async function convertToInteractive(key) {\n",
              "          const element = document.querySelector('#df-befaef56-7020-4916-b4c6-33d21cc251cd');\n",
              "          const dataTable =\n",
              "            await google.colab.kernel.invokeFunction('convertToInteractive',\n",
              "                                                     [key], {});\n",
              "          if (!dataTable) return;\n",
              "\n",
              "          const docLinkHtml = 'Like what you see? Visit the ' +\n",
              "            '<a target=\"_blank\" href=https://colab.research.google.com/notebooks/data_table.ipynb>data table notebook</a>'\n",
              "            + ' to learn more about interactive tables.';\n",
              "          element.innerHTML = '';\n",
              "          dataTable['output_type'] = 'display_data';\n",
              "          await google.colab.output.renderOutput(dataTable, element);\n",
              "          const docLink = document.createElement('div');\n",
              "          docLink.innerHTML = docLinkHtml;\n",
              "          element.appendChild(docLink);\n",
              "        }\n",
              "      </script>\n",
              "    </div>\n",
              "  </div>\n",
              "  "
            ]
          },
          "metadata": {},
          "execution_count": 5
        }
      ]
    },
    {
      "cell_type": "markdown",
      "source": [
        "# Train second tree on tree 1 residuals"
      ],
      "metadata": {
        "id": "xVWzSqz08p3S"
      }
    },
    {
      "cell_type": "code",
      "source": [
        "tree_2 = DecisionTreeRegressor(max_depth=2)\n",
        "tree_2.fit(X, data[\"tree_1_residuals\"])"
      ],
      "metadata": {
        "id": "EmOfR5Ur8tp2",
        "colab": {
          "base_uri": "https://localhost:8080/"
        },
        "outputId": "7ea317e9-b343-40b4-dc76-bd990defe8af"
      },
      "execution_count": null,
      "outputs": [
        {
          "output_type": "execute_result",
          "data": {
            "text/plain": [
              "DecisionTreeRegressor(max_depth=2)"
            ]
          },
          "metadata": {},
          "execution_count": 6
        }
      ]
    },
    {
      "cell_type": "markdown",
      "source": [],
      "metadata": {
        "id": "ybu0Uiew809u"
      }
    },
    {
      "cell_type": "code",
      "source": [
        "# store tree 2 predictions into dataframe\n",
        "data[\"tree_2_pred\"] = tree_2.predict(X)\n",
        "\n",
        "# plot tree 1 predictions vs ground truth\n",
        "tree2, = plt.plot(data[\"X\"], data[\"tree_2_pred\"], label=\"Tree 2 Prediction\", color='b')\n",
        "plt.scatter(X,y)\n",
        "\n"
      ],
      "metadata": {
        "id": "ipuPUzS_80r7",
        "colab": {
          "base_uri": "https://localhost:8080/",
          "height": 282
        },
        "outputId": "e4359901-d226-41d5-9949-136422a6eb09"
      },
      "execution_count": null,
      "outputs": [
        {
          "output_type": "execute_result",
          "data": {
            "text/plain": [
              "<matplotlib.collections.PathCollection at 0x7fa0ee50b8d0>"
            ]
          },
          "metadata": {},
          "execution_count": 7
        },
        {
          "output_type": "display_data",
          "data": {
            "text/plain": [
              "<Figure size 432x288 with 1 Axes>"
            ],
            "image/png": "[encoded data removed]"
          },
          "metadata": {
            "needs_background": "light"
          }
        }
      ]
    },
    {
      "cell_type": "markdown",
      "source": [
        "# Create composite Model"
      ],
      "metadata": {
        "id": "jk3EM7Zx9Gqs"
      }
    },
    {
      "cell_type": "code",
      "source": [
        "data[\"composite_model\"] = data[\"tree_1_pred\"] + data[\"tree_2_pred\"]\n",
        "\n",
        "# plot composite model predictions vs ground truth\n",
        "comp, = plt.plot(data[\"X\"], data[\"composite_model\"], label=\"Composite Model\", color='r')\n",
        "tree1, = plt.plot(data[\"X\"], data[\"tree_1_pred\"], label=\"Tree 1 Prediction\", color='g')\n",
        "tree2, = plt.plot(data[\"X\"], data[\"tree_2_pred\"], label=\"Tree 2 Prediction\", color='b')\n",
        "plt.scatter(X,y)\n",
        "plt.legend([comp, tree1, tree2], [\"Composite Model\", \"Tree 1 Prediction\", \"Tree 2 Prediction\"], loc='center left', bbox_to_anchor=(1, 0.5))\n",
        "\n"
      ],
      "metadata": {
        "id": "Vaipc52d9GXF",
        "colab": {
          "base_uri": "https://localhost:8080/",
          "height": 282
        },
        "outputId": "60262ba4-1d11-4ead-a385-0172801b13c2"
      },
      "execution_count": null,
      "outputs": [
        {
          "output_type": "execute_result",
          "data": {
            "text/plain": [
              "<matplotlib.legend.Legend at 0x7fa0ee481c10>"
            ]
          },
          "metadata": {},
          "execution_count": 8
        },
        {
          "output_type": "display_data",
          "data": {
            "text/plain": [
              "<Figure size 432x288 with 1 Axes>"
            ],
            "image/png": "[encoded data removed]"
          },
          "metadata": {
            "needs_background": "light"
          }
        }
      ]
    }
  ]
}
